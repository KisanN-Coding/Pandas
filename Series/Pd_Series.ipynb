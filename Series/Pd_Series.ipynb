{
 "cells": [
  {
   "cell_type": "markdown",
   "id": "417c90cc",
   "metadata": {},
   "source": [
    "## **Pandas**\n",
    "\n",
    "**Pandas is an open-source Python library used for data analysis and data manipulation**\n",
    "\n",
    "**It provides powerful, flexible, and easy-to-use tools for working with structured data, especially tables (like Excel sheets or SQL tables)**\n",
    "\n",
    "**Key Features :**\n",
    "\n",
    "**1) DataFrame & Series objects**\n",
    "\n",
    "- Series: A 1D labeled array (like a column).\n",
    "\n",
    "- DataFrame: A 2D table with labeled rows and columns.\n",
    "\n",
    "**2) Read/write data from formats like:**\n",
    "\n",
    "- CSV, Excel, SQL, JSON, Parquet, etc.\n",
    "\n",
    "**3) Data Cleaning & Transformation**\n",
    "\n",
    "- Handling missing data, filtering rows, changing data types.\n",
    "\n",
    "**4) Data Aggregation & Grouping**\n",
    "\n",
    "- Like SQL GROUP BY.\n",
    "\n",
    "**5) Time Series Analysis**\n",
    "\n",
    "- Built-in support for dates, times, and time-based indexing"
   ]
  },
  {
   "cell_type": "markdown",
   "id": "9fe56f76",
   "metadata": {},
   "source": [
    "### **Pandas Series**\n",
    "\n",
    "**A Pandas Series is a one-dimensional labeled array in Python, provided by the Pandas library. It is similar to a column in a spreadsheet or a SQL table**\n",
    "\n",
    "**Key Characteristics :**\n",
    "\n",
    "* 1D structure: Like a list or array\n",
    "\n",
    "* Labeled index: Each value has a corresponding label (called an index)\n",
    "\n",
    "* Can hold any data type: integers, floats, strings, objects, etc"
   ]
  },
  {
   "cell_type": "markdown",
   "id": "8560d36d",
   "metadata": {},
   "source": [
    "**Importing Pandas**"
   ]
  },
  {
   "cell_type": "code",
   "execution_count": 1,
   "id": "12203a3f",
   "metadata": {},
   "outputs": [],
   "source": [
    "import pandas as pd\n",
    "\n",
    "# Numpy\n",
    "import numpy as np"
   ]
  },
  {
   "cell_type": "markdown",
   "id": "0148ff03",
   "metadata": {},
   "source": [
    "#### **Series from List**"
   ]
  },
  {
   "cell_type": "code",
   "execution_count": 2,
   "id": "4ecf245b",
   "metadata": {},
   "outputs": [
    {
     "data": {
      "text/plain": [
       "0       India\n",
       "1         USA\n",
       "2      Russia\n",
       "3       China\n",
       "4      Norway\n",
       "5     England\n",
       "6    Srilanka\n",
       "dtype: object"
      ]
     },
     "execution_count": 2,
     "metadata": {},
     "output_type": "execute_result"
    }
   ],
   "source": [
    "# String\n",
    "\n",
    "country = ['India','USA','Russia','China','Norway','England','Srilanka']\n",
    "\n",
    "pd.Series(country)  # Series with values and its index"
   ]
  },
  {
   "cell_type": "code",
   "execution_count": 3,
   "id": "683a755c",
   "metadata": {},
   "outputs": [
    {
     "data": {
      "text/plain": [
       "0    34\n",
       "1    56\n",
       "2    78\n",
       "3    75\n",
       "4    45\n",
       "5    59\n",
       "6    63\n",
       "7    92\n",
       "dtype: int64"
      ]
     },
     "execution_count": 3,
     "metadata": {},
     "output_type": "execute_result"
    }
   ],
   "source": [
    "# Integer\n",
    "\n",
    "runs = [34,56,78,75,45,59,63,92]\n",
    "\n",
    "pd.Series(runs)"
   ]
  },
  {
   "cell_type": "markdown",
   "id": "56ecbea9",
   "metadata": {},
   "source": [
    "**Custom Index**"
   ]
  },
  {
   "cell_type": "code",
   "execution_count": 4,
   "id": "40e617b9",
   "metadata": {},
   "outputs": [
    {
     "data": {
      "text/plain": [
       "Maths      36\n",
       "English    57\n",
       "Marathi    98\n",
       "Hindi      86\n",
       "Biology    56\n",
       "dtype: int64"
      ]
     },
     "execution_count": 4,
     "metadata": {},
     "output_type": "execute_result"
    }
   ],
   "source": [
    "marks = [36,57,98,86,56]\n",
    "subjects = ['Maths','English','Marathi','Hindi','Biology']\n",
    "\n",
    "pd.Series(marks,index=subjects)"
   ]
  },
  {
   "cell_type": "markdown",
   "id": "196b7c1b",
   "metadata": {},
   "source": [
    "**Setting the name for series**"
   ]
  },
  {
   "cell_type": "code",
   "execution_count": 5,
   "id": "17361567",
   "metadata": {},
   "outputs": [
    {
     "data": {
      "text/plain": [
       "Maths      36\n",
       "English    57\n",
       "Marathi    98\n",
       "Hindi      86\n",
       "Biology    56\n",
       "Name: Kisan ke Marks, dtype: int64"
      ]
     },
     "execution_count": 5,
     "metadata": {},
     "output_type": "execute_result"
    }
   ],
   "source": [
    "pd.Series(marks,index=subjects,name='Kisan ke Marks')"
   ]
  },
  {
   "cell_type": "markdown",
   "id": "b42d9e8a",
   "metadata": {},
   "source": [
    "#### **Series from Dictionary**"
   ]
  },
  {
   "cell_type": "code",
   "execution_count": 6,
   "id": "a7a8cde5",
   "metadata": {},
   "outputs": [
    {
     "data": {
      "text/plain": [
       "Maths      67\n",
       "English    36\n",
       "Hindi      98\n",
       "Marathi    88\n",
       "Science    95\n",
       "Name: Kisan ke Marks, dtype: int64"
      ]
     },
     "execution_count": 6,
     "metadata": {},
     "output_type": "execute_result"
    }
   ],
   "source": [
    "marks = {'Maths':67,\n",
    "         'English':36,\n",
    "         'Hindi':98,\n",
    "         'Marathi':88,\n",
    "         'Science':95}\n",
    "\n",
    "pd.Series(marks, name='Kisan ke Marks')"
   ]
  },
  {
   "cell_type": "markdown",
   "id": "9e832895",
   "metadata": {},
   "source": [
    "#### **Series Attributes**"
   ]
  },
  {
   "cell_type": "code",
   "execution_count": 7,
   "id": "4770272d",
   "metadata": {},
   "outputs": [
    {
     "data": {
      "text/plain": [
       "Maths      67\n",
       "English    36\n",
       "Hindi      98\n",
       "Marathi    88\n",
       "Science    95\n",
       "Name: Kisan ke Marks, dtype: int64"
      ]
     },
     "execution_count": 7,
     "metadata": {},
     "output_type": "execute_result"
    }
   ],
   "source": [
    "marks = pd.Series(marks, name='Kisan ke Marks')\n",
    "marks"
   ]
  },
  {
   "cell_type": "markdown",
   "id": "4dabd773",
   "metadata": {},
   "source": [
    "**1 ) Size**"
   ]
  },
  {
   "cell_type": "code",
   "execution_count": 8,
   "id": "72a353d5",
   "metadata": {},
   "outputs": [
    {
     "data": {
      "text/plain": [
       "5"
      ]
     },
     "execution_count": 8,
     "metadata": {},
     "output_type": "execute_result"
    }
   ],
   "source": [
    "marks.size"
   ]
  },
  {
   "cell_type": "markdown",
   "id": "5f847cff",
   "metadata": {},
   "source": [
    "**2 ) Dtype**"
   ]
  },
  {
   "cell_type": "code",
   "execution_count": 9,
   "id": "3d6a9717",
   "metadata": {},
   "outputs": [
    {
     "data": {
      "text/plain": [
       "dtype('int64')"
      ]
     },
     "execution_count": 9,
     "metadata": {},
     "output_type": "execute_result"
    }
   ],
   "source": [
    "marks.dtype"
   ]
  },
  {
   "cell_type": "markdown",
   "id": "b500b746",
   "metadata": {},
   "source": [
    "**3 ) Name**"
   ]
  },
  {
   "cell_type": "code",
   "execution_count": 10,
   "id": "7e0f7ed1",
   "metadata": {},
   "outputs": [
    {
     "data": {
      "text/plain": [
       "'Kisan ke Marks'"
      ]
     },
     "execution_count": 10,
     "metadata": {},
     "output_type": "execute_result"
    }
   ],
   "source": [
    "marks.name"
   ]
  },
  {
   "cell_type": "markdown",
   "id": "87771f44",
   "metadata": {},
   "source": [
    "**4 ) Isunique**"
   ]
  },
  {
   "cell_type": "code",
   "execution_count": 11,
   "id": "58b49017",
   "metadata": {},
   "outputs": [
    {
     "data": {
      "text/plain": [
       "True"
      ]
     },
     "execution_count": 11,
     "metadata": {},
     "output_type": "execute_result"
    }
   ],
   "source": [
    "marks.is_unique"
   ]
  },
  {
   "cell_type": "code",
   "execution_count": 12,
   "id": "146fb2b2",
   "metadata": {},
   "outputs": [
    {
     "data": {
      "text/plain": [
       "False"
      ]
     },
     "execution_count": 12,
     "metadata": {},
     "output_type": "execute_result"
    }
   ],
   "source": [
    "pd.Series([1,1,1,2,2,3,3]).is_unique"
   ]
  },
  {
   "cell_type": "markdown",
   "id": "af881807",
   "metadata": {},
   "source": [
    "**5 ) Index**"
   ]
  },
  {
   "cell_type": "code",
   "execution_count": 13,
   "id": "e99ad8e2",
   "metadata": {},
   "outputs": [
    {
     "data": {
      "text/plain": [
       "Index(['Maths', 'English', 'Hindi', 'Marathi', 'Science'], dtype='object')"
      ]
     },
     "execution_count": 13,
     "metadata": {},
     "output_type": "execute_result"
    }
   ],
   "source": [
    "marks.index"
   ]
  },
  {
   "cell_type": "markdown",
   "id": "89188587",
   "metadata": {},
   "source": [
    "**6 ) Values**"
   ]
  },
  {
   "cell_type": "code",
   "execution_count": 14,
   "id": "8ecd2d53",
   "metadata": {},
   "outputs": [
    {
     "data": {
      "text/plain": [
       "array([67, 36, 98, 88, 95])"
      ]
     },
     "execution_count": 14,
     "metadata": {},
     "output_type": "execute_result"
    }
   ],
   "source": [
    "marks.values"
   ]
  },
  {
   "cell_type": "markdown",
   "id": "cc679189",
   "metadata": {},
   "source": [
    "#### **Series using read_csv**"
   ]
  },
  {
   "cell_type": "code",
   "execution_count": 15,
   "id": "00247244",
   "metadata": {},
   "outputs": [
    {
     "data": {
      "text/plain": [
       "pandas.core.frame.DataFrame"
      ]
     },
     "execution_count": 15,
     "metadata": {},
     "output_type": "execute_result"
    }
   ],
   "source": [
    "subs = pd.read_csv('Datasets/subs.csv')\n",
    "type(subs)"
   ]
  },
  {
   "cell_type": "code",
   "execution_count": 16,
   "id": "da0a9348",
   "metadata": {},
   "outputs": [
    {
     "name": "stdout",
     "output_type": "stream",
     "text": [
      "0       48\n",
      "1       57\n",
      "2       40\n",
      "3       43\n",
      "4       44\n",
      "      ... \n",
      "360    231\n",
      "361    226\n",
      "362    155\n",
      "363    144\n",
      "364    172\n",
      "Name: Subscribers gained, Length: 365, dtype: int64\n",
      "<class 'pandas.core.series.Series'>\n"
     ]
    }
   ],
   "source": [
    "# So to convert this to Series , with one column\n",
    "subs = pd.read_csv('Datasets/subs.csv')\n",
    "subs = subs.iloc[:,0]\n",
    "print(subs)\n",
    "print(type(subs))"
   ]
  },
  {
   "cell_type": "code",
   "execution_count": 17,
   "id": "c90aad0d",
   "metadata": {},
   "outputs": [
    {
     "data": {
      "text/html": [
       "<div>\n",
       "<style scoped>\n",
       "    .dataframe tbody tr th:only-of-type {\n",
       "        vertical-align: middle;\n",
       "    }\n",
       "\n",
       "    .dataframe tbody tr th {\n",
       "        vertical-align: top;\n",
       "    }\n",
       "\n",
       "    .dataframe thead th {\n",
       "        text-align: right;\n",
       "    }\n",
       "</style>\n",
       "<table border=\"1\" class=\"dataframe\">\n",
       "  <thead>\n",
       "    <tr style=\"text-align: right;\">\n",
       "      <th></th>\n",
       "      <th>match_no</th>\n",
       "      <th>runs</th>\n",
       "    </tr>\n",
       "  </thead>\n",
       "  <tbody>\n",
       "    <tr>\n",
       "      <th>0</th>\n",
       "      <td>1</td>\n",
       "      <td>1</td>\n",
       "    </tr>\n",
       "    <tr>\n",
       "      <th>1</th>\n",
       "      <td>2</td>\n",
       "      <td>23</td>\n",
       "    </tr>\n",
       "    <tr>\n",
       "      <th>2</th>\n",
       "      <td>3</td>\n",
       "      <td>13</td>\n",
       "    </tr>\n",
       "    <tr>\n",
       "      <th>3</th>\n",
       "      <td>4</td>\n",
       "      <td>12</td>\n",
       "    </tr>\n",
       "    <tr>\n",
       "      <th>4</th>\n",
       "      <td>5</td>\n",
       "      <td>1</td>\n",
       "    </tr>\n",
       "    <tr>\n",
       "      <th>...</th>\n",
       "      <td>...</td>\n",
       "      <td>...</td>\n",
       "    </tr>\n",
       "    <tr>\n",
       "      <th>210</th>\n",
       "      <td>211</td>\n",
       "      <td>0</td>\n",
       "    </tr>\n",
       "    <tr>\n",
       "      <th>211</th>\n",
       "      <td>212</td>\n",
       "      <td>20</td>\n",
       "    </tr>\n",
       "    <tr>\n",
       "      <th>212</th>\n",
       "      <td>213</td>\n",
       "      <td>73</td>\n",
       "    </tr>\n",
       "    <tr>\n",
       "      <th>213</th>\n",
       "      <td>214</td>\n",
       "      <td>25</td>\n",
       "    </tr>\n",
       "    <tr>\n",
       "      <th>214</th>\n",
       "      <td>215</td>\n",
       "      <td>7</td>\n",
       "    </tr>\n",
       "  </tbody>\n",
       "</table>\n",
       "<p>215 rows × 2 columns</p>\n",
       "</div>"
      ],
      "text/plain": [
       "     match_no  runs\n",
       "0           1     1\n",
       "1           2    23\n",
       "2           3    13\n",
       "3           4    12\n",
       "4           5     1\n",
       "..        ...   ...\n",
       "210       211     0\n",
       "211       212    20\n",
       "212       213    73\n",
       "213       214    25\n",
       "214       215     7\n",
       "\n",
       "[215 rows x 2 columns]"
      ]
     },
     "execution_count": 17,
     "metadata": {},
     "output_type": "execute_result"
    }
   ],
   "source": [
    "ipl = pd.read_csv('Datasets/kohli_ipl.csv')\n",
    "ipl"
   ]
  },
  {
   "cell_type": "code",
   "execution_count": 18,
   "id": "fbb655b1",
   "metadata": {},
   "outputs": [
    {
     "name": "stdout",
     "output_type": "stream",
     "text": [
      "match_no\n",
      "1       1\n",
      "2      23\n",
      "3      13\n",
      "4      12\n",
      "5       1\n",
      "       ..\n",
      "211     0\n",
      "212    20\n",
      "213    73\n",
      "214    25\n",
      "215     7\n",
      "Name: runs, Length: 215, dtype: int64\n"
     ]
    }
   ],
   "source": [
    "ipl = pd.read_csv('Datasets/kohli_ipl.csv',index_col='match_no')\n",
    "\n",
    "ipl = ipl.iloc[:,0]\n",
    "print(ipl)"
   ]
  },
  {
   "cell_type": "code",
   "execution_count": 19,
   "id": "03d14622",
   "metadata": {},
   "outputs": [
    {
     "data": {
      "text/html": [
       "<div>\n",
       "<style scoped>\n",
       "    .dataframe tbody tr th:only-of-type {\n",
       "        vertical-align: middle;\n",
       "    }\n",
       "\n",
       "    .dataframe tbody tr th {\n",
       "        vertical-align: top;\n",
       "    }\n",
       "\n",
       "    .dataframe thead th {\n",
       "        text-align: right;\n",
       "    }\n",
       "</style>\n",
       "<table border=\"1\" class=\"dataframe\">\n",
       "  <thead>\n",
       "    <tr style=\"text-align: right;\">\n",
       "      <th></th>\n",
       "      <th>movie</th>\n",
       "      <th>lead</th>\n",
       "    </tr>\n",
       "  </thead>\n",
       "  <tbody>\n",
       "    <tr>\n",
       "      <th>0</th>\n",
       "      <td>Uri: The Surgical Strike</td>\n",
       "      <td>Vicky Kaushal</td>\n",
       "    </tr>\n",
       "    <tr>\n",
       "      <th>1</th>\n",
       "      <td>Battalion 609</td>\n",
       "      <td>Vicky Ahuja</td>\n",
       "    </tr>\n",
       "    <tr>\n",
       "      <th>2</th>\n",
       "      <td>The Accidental Prime Minister (film)</td>\n",
       "      <td>Anupam Kher</td>\n",
       "    </tr>\n",
       "    <tr>\n",
       "      <th>3</th>\n",
       "      <td>Why Cheat India</td>\n",
       "      <td>Emraan Hashmi</td>\n",
       "    </tr>\n",
       "    <tr>\n",
       "      <th>4</th>\n",
       "      <td>Evening Shadows</td>\n",
       "      <td>Mona Ambegaonkar</td>\n",
       "    </tr>\n",
       "    <tr>\n",
       "      <th>...</th>\n",
       "      <td>...</td>\n",
       "      <td>...</td>\n",
       "    </tr>\n",
       "    <tr>\n",
       "      <th>1495</th>\n",
       "      <td>Hum Tumhare Hain Sanam</td>\n",
       "      <td>Shah Rukh Khan</td>\n",
       "    </tr>\n",
       "    <tr>\n",
       "      <th>1496</th>\n",
       "      <td>Aankhen (2002 film)</td>\n",
       "      <td>Amitabh Bachchan</td>\n",
       "    </tr>\n",
       "    <tr>\n",
       "      <th>1497</th>\n",
       "      <td>Saathiya (film)</td>\n",
       "      <td>Vivek Oberoi</td>\n",
       "    </tr>\n",
       "    <tr>\n",
       "      <th>1498</th>\n",
       "      <td>Company (film)</td>\n",
       "      <td>Ajay Devgn</td>\n",
       "    </tr>\n",
       "    <tr>\n",
       "      <th>1499</th>\n",
       "      <td>Awara Paagal Deewana</td>\n",
       "      <td>Akshay Kumar</td>\n",
       "    </tr>\n",
       "  </tbody>\n",
       "</table>\n",
       "<p>1500 rows × 2 columns</p>\n",
       "</div>"
      ],
      "text/plain": [
       "                                     movie              lead\n",
       "0                 Uri: The Surgical Strike     Vicky Kaushal\n",
       "1                            Battalion 609       Vicky Ahuja\n",
       "2     The Accidental Prime Minister (film)       Anupam Kher\n",
       "3                          Why Cheat India     Emraan Hashmi\n",
       "4                          Evening Shadows  Mona Ambegaonkar\n",
       "...                                    ...               ...\n",
       "1495                Hum Tumhare Hain Sanam    Shah Rukh Khan\n",
       "1496                   Aankhen (2002 film)  Amitabh Bachchan\n",
       "1497                       Saathiya (film)      Vivek Oberoi\n",
       "1498                        Company (film)        Ajay Devgn\n",
       "1499                  Awara Paagal Deewana      Akshay Kumar\n",
       "\n",
       "[1500 rows x 2 columns]"
      ]
     },
     "execution_count": 19,
     "metadata": {},
     "output_type": "execute_result"
    }
   ],
   "source": [
    "moives = pd.read_csv('Datasets/bollywood.csv')\n",
    "moives"
   ]
  },
  {
   "cell_type": "code",
   "execution_count": 20,
   "id": "d116d58c",
   "metadata": {},
   "outputs": [
    {
     "name": "stdout",
     "output_type": "stream",
     "text": [
      "movie\n",
      "Uri: The Surgical Strike                   Vicky Kaushal\n",
      "Battalion 609                                Vicky Ahuja\n",
      "The Accidental Prime Minister (film)         Anupam Kher\n",
      "Why Cheat India                            Emraan Hashmi\n",
      "Evening Shadows                         Mona Ambegaonkar\n",
      "                                              ...       \n",
      "Hum Tumhare Hain Sanam                    Shah Rukh Khan\n",
      "Aankhen (2002 film)                     Amitabh Bachchan\n",
      "Saathiya (film)                             Vivek Oberoi\n",
      "Company (film)                                Ajay Devgn\n",
      "Awara Paagal Deewana                        Akshay Kumar\n",
      "Name: lead, Length: 1500, dtype: object\n"
     ]
    }
   ],
   "source": [
    "movies = pd.read_csv('Datasets/bollywood.csv',index_col='movie')\n",
    "movies = movies.iloc[:,0]\n",
    "print(movies)"
   ]
  },
  {
   "cell_type": "markdown",
   "id": "c61e7484",
   "metadata": {},
   "source": [
    "#### **Series Methods**"
   ]
  },
  {
   "cell_type": "markdown",
   "id": "1b1587d6",
   "metadata": {},
   "source": [
    "**1 ) Head**"
   ]
  },
  {
   "cell_type": "code",
   "execution_count": 21,
   "id": "d426d16a",
   "metadata": {},
   "outputs": [
    {
     "data": {
      "text/plain": [
       "0    48\n",
       "1    57\n",
       "2    40\n",
       "3    43\n",
       "4    44\n",
       "Name: Subscribers gained, dtype: int64"
      ]
     },
     "execution_count": 21,
     "metadata": {},
     "output_type": "execute_result"
    }
   ],
   "source": [
    "subs.head() # by default show top 5"
   ]
  },
  {
   "cell_type": "code",
   "execution_count": 22,
   "id": "3feb32bd",
   "metadata": {},
   "outputs": [
    {
     "data": {
      "text/plain": [
       "match_no\n",
       "1      1\n",
       "2     23\n",
       "3     13\n",
       "4     12\n",
       "5      1\n",
       "6      9\n",
       "7     34\n",
       "8      0\n",
       "9     21\n",
       "10     3\n",
       "Name: runs, dtype: int64"
      ]
     },
     "execution_count": 22,
     "metadata": {},
     "output_type": "execute_result"
    }
   ],
   "source": [
    "ipl.head(10)  # You can also specify numbers"
   ]
  },
  {
   "cell_type": "markdown",
   "id": "5ea47b56",
   "metadata": {},
   "source": [
    "**2 ) Tail**"
   ]
  },
  {
   "cell_type": "code",
   "execution_count": 23,
   "id": "b17688be",
   "metadata": {},
   "outputs": [
    {
     "data": {
      "text/plain": [
       "360    231\n",
       "361    226\n",
       "362    155\n",
       "363    144\n",
       "364    172\n",
       "Name: Subscribers gained, dtype: int64"
      ]
     },
     "execution_count": 23,
     "metadata": {},
     "output_type": "execute_result"
    }
   ],
   "source": [
    "subs.tail() #by default show last 5 row"
   ]
  },
  {
   "cell_type": "code",
   "execution_count": 24,
   "id": "e96d762a",
   "metadata": {},
   "outputs": [
    {
     "data": {
      "text/plain": [
       "355    149\n",
       "356    156\n",
       "357    177\n",
       "358    210\n",
       "359    209\n",
       "360    231\n",
       "361    226\n",
       "362    155\n",
       "363    144\n",
       "364    172\n",
       "Name: Subscribers gained, dtype: int64"
      ]
     },
     "execution_count": 24,
     "metadata": {},
     "output_type": "execute_result"
    }
   ],
   "source": [
    "subs.tail(10)"
   ]
  },
  {
   "cell_type": "markdown",
   "id": "6a2df68e",
   "metadata": {},
   "source": [
    "**3 ) Sample**"
   ]
  },
  {
   "cell_type": "code",
   "execution_count": 25,
   "id": "2fefdcce",
   "metadata": {},
   "outputs": [
    {
     "data": {
      "text/plain": [
       "118    73\n",
       "Name: Subscribers gained, dtype: int64"
      ]
     },
     "execution_count": 25,
     "metadata": {},
     "output_type": "execute_result"
    }
   ],
   "source": [
    "subs.sample()  # show one randow row from data"
   ]
  },
  {
   "cell_type": "code",
   "execution_count": 26,
   "id": "601bfcbe",
   "metadata": {},
   "outputs": [
    {
     "data": {
      "text/plain": [
       "143     82\n",
       "272    160\n",
       "198    138\n",
       "308    152\n",
       "215    119\n",
       "35     123\n",
       "20      40\n",
       "345    258\n",
       "335    188\n",
       "28      61\n",
       "Name: Subscribers gained, dtype: int64"
      ]
     },
     "execution_count": 26,
     "metadata": {},
     "output_type": "execute_result"
    }
   ],
   "source": [
    "subs.sample(10)  # We also specify the number of row we want\n",
    "\n",
    "# 10 randow row from data"
   ]
  },
  {
   "cell_type": "markdown",
   "id": "37900410",
   "metadata": {},
   "source": [
    "**4 ) Value_counts**"
   ]
  },
  {
   "cell_type": "code",
   "execution_count": 27,
   "id": "62298db0",
   "metadata": {},
   "outputs": [
    {
     "data": {
      "text/plain": [
       "movie\n",
       "Uri: The Surgical Strike                   Vicky Kaushal\n",
       "Battalion 609                                Vicky Ahuja\n",
       "The Accidental Prime Minister (film)         Anupam Kher\n",
       "Why Cheat India                            Emraan Hashmi\n",
       "Evening Shadows                         Mona Ambegaonkar\n",
       "                                              ...       \n",
       "Hum Tumhare Hain Sanam                    Shah Rukh Khan\n",
       "Aankhen (2002 film)                     Amitabh Bachchan\n",
       "Saathiya (film)                             Vivek Oberoi\n",
       "Company (film)                                Ajay Devgn\n",
       "Awara Paagal Deewana                        Akshay Kumar\n",
       "Name: lead, Length: 1500, dtype: object"
      ]
     },
     "execution_count": 27,
     "metadata": {},
     "output_type": "execute_result"
    }
   ],
   "source": [
    "movies"
   ]
  },
  {
   "cell_type": "code",
   "execution_count": 28,
   "id": "24f69a1c",
   "metadata": {},
   "outputs": [
    {
     "data": {
      "text/plain": [
       "lead\n",
       "Akshay Kumar         48\n",
       "Amitabh Bachchan     45\n",
       "Ajay Devgn           38\n",
       "Salman Khan          31\n",
       "Sanjay Dutt          26\n",
       "                     ..\n",
       "Seema Azmi            1\n",
       "Akanksha Puri         1\n",
       "Charanpreet Insan     1\n",
       "Jaideep Ahlawat       1\n",
       "Monali Thakur         1\n",
       "Name: count, Length: 566, dtype: int64"
      ]
     },
     "execution_count": 28,
     "metadata": {},
     "output_type": "execute_result"
    }
   ],
   "source": [
    "# It tell the frequency of every item in column\n",
    "\n",
    "movies.value_counts()"
   ]
  },
  {
   "cell_type": "markdown",
   "id": "c09ade45",
   "metadata": {},
   "source": [
    "**5 ) Sort_values**"
   ]
  },
  {
   "cell_type": "code",
   "execution_count": 29,
   "id": "f88a6711",
   "metadata": {},
   "outputs": [
    {
     "data": {
      "text/plain": [
       "match_no\n",
       "8        0\n",
       "87       0\n",
       "93       0\n",
       "91       0\n",
       "206      0\n",
       "      ... \n",
       "164    100\n",
       "120    100\n",
       "123    108\n",
       "126    109\n",
       "128    113\n",
       "Name: runs, Length: 215, dtype: int64"
      ]
     },
     "execution_count": 29,
     "metadata": {},
     "output_type": "execute_result"
    }
   ],
   "source": [
    "# Sorts the values\n",
    "\n",
    "ipl.sort_values()"
   ]
  },
  {
   "cell_type": "code",
   "execution_count": 30,
   "id": "19d7fc38",
   "metadata": {},
   "outputs": [
    {
     "data": {
      "text/plain": [
       "match_no\n",
       "128    113\n",
       "126    109\n",
       "123    108\n",
       "120    100\n",
       "164    100\n",
       "Name: runs, dtype: int64"
      ]
     },
     "execution_count": 30,
     "metadata": {},
     "output_type": "execute_result"
    }
   ],
   "source": [
    "\n",
    "ipl.sort_values(ascending=False).head()"
   ]
  },
  {
   "cell_type": "code",
   "execution_count": 31,
   "id": "67979d13",
   "metadata": {},
   "outputs": [],
   "source": [
    "# From permenent change \n",
    "\n",
    "# ipl.sort_values(ascending=False,inplace=True) "
   ]
  },
  {
   "cell_type": "markdown",
   "id": "edc8c42e",
   "metadata": {},
   "source": [
    "**6 ) sort_index**"
   ]
  },
  {
   "cell_type": "code",
   "execution_count": 32,
   "id": "55cb1906",
   "metadata": {},
   "outputs": [
    {
     "data": {
      "text/plain": [
       "movie\n",
       "1920 (film)                   Rajniesh Duggall\n",
       "1920: London                     Sharman Joshi\n",
       "1920: The Evil Returns             Vicky Ahuja\n",
       "1971 (2007 film)                Manoj Bajpayee\n",
       "2 States (2014 film)              Arjun Kapoor\n",
       "                                   ...        \n",
       "Zindagi 50-50                      Veena Malik\n",
       "Zindagi Na Milegi Dobara        Hrithik Roshan\n",
       "Zindagi Tere Naam           Mithun Chakraborty\n",
       "Zokkomon                       Darsheel Safary\n",
       "Zor Lagaa Ke...Haiya!            Meghan Jadhav\n",
       "Name: lead, Length: 1500, dtype: object"
      ]
     },
     "execution_count": 32,
     "metadata": {},
     "output_type": "execute_result"
    }
   ],
   "source": [
    "movies.sort_index()  # For per change you can use inplace = True"
   ]
  },
  {
   "cell_type": "markdown",
   "id": "f430f969",
   "metadata": {},
   "source": [
    "#### **Series Maths Methods**"
   ]
  },
  {
   "cell_type": "markdown",
   "id": "922b5010",
   "metadata": {},
   "source": [
    "**1 ) Count**"
   ]
  },
  {
   "cell_type": "code",
   "execution_count": 33,
   "id": "c402ec68",
   "metadata": {},
   "outputs": [
    {
     "data": {
      "text/plain": [
       "np.int64(215)"
      ]
     },
     "execution_count": 33,
     "metadata": {},
     "output_type": "execute_result"
    }
   ],
   "source": [
    "ipl.count()  # it don't count missing values"
   ]
  },
  {
   "cell_type": "markdown",
   "id": "52eafc67",
   "metadata": {},
   "source": [
    "**2 ) Sum**"
   ]
  },
  {
   "cell_type": "code",
   "execution_count": 34,
   "id": "7e3430f5",
   "metadata": {},
   "outputs": [
    {
     "data": {
      "text/plain": [
       "np.int64(49510)"
      ]
     },
     "execution_count": 34,
     "metadata": {},
     "output_type": "execute_result"
    }
   ],
   "source": [
    "subs.sum()"
   ]
  },
  {
   "cell_type": "markdown",
   "id": "37665144",
   "metadata": {},
   "source": [
    "**3 ) Product**"
   ]
  },
  {
   "cell_type": "code",
   "execution_count": 35,
   "id": "4e52744c",
   "metadata": {},
   "outputs": [
    {
     "data": {
      "text/plain": [
       "np.int64(0)"
      ]
     },
     "execution_count": 35,
     "metadata": {},
     "output_type": "execute_result"
    }
   ],
   "source": [
    "ipl.product()"
   ]
  },
  {
   "cell_type": "markdown",
   "id": "2f907ea9",
   "metadata": {},
   "source": [
    "**4 ) Mean**"
   ]
  },
  {
   "cell_type": "code",
   "execution_count": 36,
   "id": "8cb34ba1",
   "metadata": {},
   "outputs": [
    {
     "data": {
      "text/plain": [
       "np.float64(30.855813953488372)"
      ]
     },
     "execution_count": 36,
     "metadata": {},
     "output_type": "execute_result"
    }
   ],
   "source": [
    "ipl.mean()"
   ]
  },
  {
   "cell_type": "markdown",
   "id": "a3e60d38",
   "metadata": {},
   "source": [
    "**5 ) Median**"
   ]
  },
  {
   "cell_type": "code",
   "execution_count": 37,
   "id": "16889811",
   "metadata": {},
   "outputs": [
    {
     "data": {
      "text/plain": [
       "24.0"
      ]
     },
     "execution_count": 37,
     "metadata": {},
     "output_type": "execute_result"
    }
   ],
   "source": [
    "ipl.median()"
   ]
  },
  {
   "cell_type": "markdown",
   "id": "c6719988",
   "metadata": {},
   "source": [
    "**6 ) Mode**"
   ]
  },
  {
   "cell_type": "code",
   "execution_count": 38,
   "id": "b823e838",
   "metadata": {},
   "outputs": [
    {
     "data": {
      "text/plain": [
       "0    0\n",
       "Name: runs, dtype: int64"
      ]
     },
     "execution_count": 38,
     "metadata": {},
     "output_type": "execute_result"
    }
   ],
   "source": [
    "ipl.mode()"
   ]
  },
  {
   "cell_type": "markdown",
   "id": "90cb77b8",
   "metadata": {},
   "source": [
    "**7 ) Min and Max**"
   ]
  },
  {
   "cell_type": "code",
   "execution_count": 39,
   "id": "67769b12",
   "metadata": {},
   "outputs": [
    {
     "data": {
      "text/plain": [
       "113"
      ]
     },
     "execution_count": 39,
     "metadata": {},
     "output_type": "execute_result"
    }
   ],
   "source": [
    "ipl.max()"
   ]
  },
  {
   "cell_type": "code",
   "execution_count": 40,
   "id": "30758d23",
   "metadata": {},
   "outputs": [
    {
     "data": {
      "text/plain": [
       "0"
      ]
     },
     "execution_count": 40,
     "metadata": {},
     "output_type": "execute_result"
    }
   ],
   "source": [
    "ipl.min()"
   ]
  },
  {
   "cell_type": "markdown",
   "id": "de891cfe",
   "metadata": {},
   "source": [
    "**8 ) Describe**"
   ]
  },
  {
   "cell_type": "code",
   "execution_count": 41,
   "id": "a394ed1a",
   "metadata": {},
   "outputs": [
    {
     "data": {
      "text/plain": [
       "count    215.000000\n",
       "mean      30.855814\n",
       "std       26.229801\n",
       "min        0.000000\n",
       "25%        9.000000\n",
       "50%       24.000000\n",
       "75%       48.000000\n",
       "max      113.000000\n",
       "Name: runs, dtype: float64"
      ]
     },
     "execution_count": 41,
     "metadata": {},
     "output_type": "execute_result"
    }
   ],
   "source": [
    "ipl.describe()"
   ]
  },
  {
   "cell_type": "markdown",
   "id": "5bf33b58",
   "metadata": {},
   "source": [
    "**9 ) Some More**"
   ]
  },
  {
   "cell_type": "code",
   "execution_count": 42,
   "id": "e452e7af",
   "metadata": {},
   "outputs": [
    {
     "data": {
      "text/plain": [
       "688.0024777222344"
      ]
     },
     "execution_count": 42,
     "metadata": {},
     "output_type": "execute_result"
    }
   ],
   "source": [
    "ipl.var()"
   ]
  },
  {
   "cell_type": "code",
   "execution_count": 43,
   "id": "aa502cf8",
   "metadata": {},
   "outputs": [
    {
     "data": {
      "text/plain": [
       "26.22980132830278"
      ]
     },
     "execution_count": 43,
     "metadata": {},
     "output_type": "execute_result"
    }
   ],
   "source": [
    "ipl.std()"
   ]
  },
  {
   "cell_type": "markdown",
   "id": "30871516",
   "metadata": {},
   "source": [
    "#### **Series Indexing**"
   ]
  },
  {
   "cell_type": "code",
   "execution_count": 44,
   "id": "392044ab",
   "metadata": {},
   "outputs": [],
   "source": [
    "x = pd.Series([12,13,14,46,57,58,79,9])"
   ]
  },
  {
   "cell_type": "code",
   "execution_count": 45,
   "id": "c5154106",
   "metadata": {},
   "outputs": [
    {
     "name": "stdout",
     "output_type": "stream",
     "text": [
      "12\n",
      "58\n"
     ]
    }
   ],
   "source": [
    "# positive indexing \n",
    "print(x[0])\n",
    "print(x[5])"
   ]
  },
  {
   "cell_type": "code",
   "execution_count": 46,
   "id": "edfc1e80",
   "metadata": {},
   "outputs": [],
   "source": [
    "# print(x[-1])  --> it will give an error"
   ]
  },
  {
   "cell_type": "code",
   "execution_count": 47,
   "id": "5671cf8e",
   "metadata": {},
   "outputs": [
    {
     "data": {
      "text/plain": [
       "movie\n",
       "MSG: The Messenger        Gurmeet Ram Rahim Singh\n",
       "Pranaam                         Rajeev Khandelwal\n",
       "Chandni Chowk to China         Mithun Chakraborty\n",
       "Name: lead, dtype: object"
      ]
     },
     "execution_count": 47,
     "metadata": {},
     "output_type": "execute_result"
    }
   ],
   "source": [
    "movies.sample(3)"
   ]
  },
  {
   "cell_type": "code",
   "execution_count": 48,
   "id": "889f0b06",
   "metadata": {},
   "outputs": [
    {
     "data": {
      "text/plain": [
       "'Akshay Kumar'"
      ]
     },
     "execution_count": 48,
     "metadata": {},
     "output_type": "execute_result"
    }
   ],
   "source": [
    "movies['Awara Paagal Deewana']"
   ]
  },
  {
   "cell_type": "code",
   "execution_count": 49,
   "id": "0d5fd7e9",
   "metadata": {},
   "outputs": [],
   "source": [
    "# Negative indexing not work on Series"
   ]
  },
  {
   "cell_type": "markdown",
   "id": "3cea66b8",
   "metadata": {},
   "source": [
    "**Slicing**"
   ]
  },
  {
   "cell_type": "code",
   "execution_count": 50,
   "id": "20e8e0c2",
   "metadata": {},
   "outputs": [
    {
     "data": {
      "text/plain": [
       "match_no\n",
       "1       1\n",
       "2      23\n",
       "3      13\n",
       "4      12\n",
       "5       1\n",
       "       ..\n",
       "211     0\n",
       "212    20\n",
       "213    73\n",
       "214    25\n",
       "215     7\n",
       "Name: runs, Length: 215, dtype: int64"
      ]
     },
     "execution_count": 50,
     "metadata": {},
     "output_type": "execute_result"
    }
   ],
   "source": [
    "ipl"
   ]
  },
  {
   "cell_type": "code",
   "execution_count": 51,
   "id": "2bcd2df7",
   "metadata": {},
   "outputs": [
    {
     "name": "stdout",
     "output_type": "stream",
     "text": [
      "match_no\n",
      "6      9\n",
      "7     34\n",
      "8      0\n",
      "9     21\n",
      "10     3\n",
      "11    10\n",
      "12    38\n",
      "13     3\n",
      "14    11\n",
      "15    50\n",
      "16     2\n",
      "Name: runs, dtype: int64\n"
     ]
    }
   ],
   "source": [
    "print(ipl[5:16])"
   ]
  },
  {
   "cell_type": "code",
   "execution_count": 52,
   "id": "faca1b37",
   "metadata": {},
   "outputs": [
    {
     "name": "stdout",
     "output_type": "stream",
     "text": [
      "match_no\n",
      "211     0\n",
      "212    20\n",
      "213    73\n",
      "214    25\n",
      "215     7\n",
      "Name: runs, dtype: int64\n"
     ]
    }
   ],
   "source": [
    "print(ipl[-5:])  # Negative slicing works"
   ]
  },
  {
   "cell_type": "code",
   "execution_count": 53,
   "id": "ea55f55e",
   "metadata": {},
   "outputs": [
    {
     "data": {
      "text/plain": [
       "movie\n",
       "Uri: The Surgical Strike                   Vicky Kaushal\n",
       "The Accidental Prime Minister (film)         Anupam Kher\n",
       "Evening Shadows                         Mona Ambegaonkar\n",
       "Fraud Saiyaan                               Arshad Warsi\n",
       "Manikarnika: The Queen of Jhansi          Kangana Ranaut\n",
       "                                              ...       \n",
       "Raaz (2002 film)                              Dino Morea\n",
       "Waisa Bhi Hota Hai Part II                  Arshad Warsi\n",
       "Kaante                                  Amitabh Bachchan\n",
       "Aankhen (2002 film)                     Amitabh Bachchan\n",
       "Company (film)                                Ajay Devgn\n",
       "Name: lead, Length: 750, dtype: object"
      ]
     },
     "execution_count": 53,
     "metadata": {},
     "output_type": "execute_result"
    }
   ],
   "source": [
    "# alternate moives\n",
    "movies[::2]"
   ]
  },
  {
   "cell_type": "markdown",
   "id": "ade5381c",
   "metadata": {},
   "source": [
    "**Fancy Indexing**"
   ]
  },
  {
   "cell_type": "code",
   "execution_count": 54,
   "id": "1fe21602",
   "metadata": {},
   "outputs": [
    {
     "data": {
      "text/plain": [
       "match_no\n",
       "5     1\n",
       "6     9\n",
       "7    34\n",
       "8     0\n",
       "Name: runs, dtype: int64"
      ]
     },
     "execution_count": 54,
     "metadata": {},
     "output_type": "execute_result"
    }
   ],
   "source": [
    "ipl[[5,6,7,8]]"
   ]
  },
  {
   "cell_type": "code",
   "execution_count": 55,
   "id": "cbee5821",
   "metadata": {},
   "outputs": [
    {
     "data": {
      "text/plain": [
       "movie\n",
       "Battalion 609           Vicky Ahuja\n",
       "Evening Shadows    Mona Ambegaonkar\n",
       "Company (film)           Ajay Devgn\n",
       "Name: lead, dtype: object"
      ]
     },
     "execution_count": 55,
     "metadata": {},
     "output_type": "execute_result"
    }
   ],
   "source": [
    "# using the labels ---> Fancy indexing\n",
    "\n",
    "movies[['Battalion 609','Evening Shadows','Company (film)']]"
   ]
  },
  {
   "cell_type": "markdown",
   "id": "2836e759",
   "metadata": {},
   "source": [
    "#### **Editing Series**"
   ]
  },
  {
   "cell_type": "markdown",
   "id": "c59b71e2",
   "metadata": {},
   "source": [
    "**Using indexing**"
   ]
  },
  {
   "cell_type": "code",
   "execution_count": 56,
   "id": "a3774f90",
   "metadata": {},
   "outputs": [
    {
     "data": {
      "text/plain": [
       "Maths      67\n",
       "English    36\n",
       "Hindi      98\n",
       "Marathi    88\n",
       "Science    95\n",
       "Name: Kisan ke Marks, dtype: int64"
      ]
     },
     "execution_count": 56,
     "metadata": {},
     "output_type": "execute_result"
    }
   ],
   "source": [
    "marks"
   ]
  },
  {
   "cell_type": "code",
   "execution_count": 57,
   "id": "df629646",
   "metadata": {},
   "outputs": [
    {
     "data": {
      "text/plain": [
       "Maths      67\n",
       "English    95\n",
       "Hindi      98\n",
       "Marathi    88\n",
       "Science    95\n",
       "Name: Kisan ke Marks, dtype: int64"
      ]
     },
     "execution_count": 57,
     "metadata": {},
     "output_type": "execute_result"
    }
   ],
   "source": [
    "marks['English'] = 95\n",
    "marks"
   ]
  },
  {
   "cell_type": "code",
   "execution_count": 58,
   "id": "ce3220ed",
   "metadata": {},
   "outputs": [
    {
     "data": {
      "text/plain": [
       "Maths             67\n",
       "English           95\n",
       "Hindi             98\n",
       "Marathi           88\n",
       "Science           95\n",
       "Social Science    85\n",
       "Name: Kisan ke Marks, dtype: int64"
      ]
     },
     "execution_count": 58,
     "metadata": {},
     "output_type": "execute_result"
    }
   ],
   "source": [
    "# What if the index is not present ?\n",
    "marks['Social Science'] = 85\n",
    "marks"
   ]
  },
  {
   "cell_type": "markdown",
   "id": "cff3307e",
   "metadata": {},
   "source": [
    "**Using Slicing**"
   ]
  },
  {
   "cell_type": "code",
   "execution_count": 59,
   "id": "cfe05148",
   "metadata": {},
   "outputs": [
    {
     "data": {
      "text/plain": [
       "0    48\n",
       "1    57\n",
       "2    40\n",
       "3    43\n",
       "4    44\n",
       "Name: Subscribers gained, dtype: int64"
      ]
     },
     "execution_count": 59,
     "metadata": {},
     "output_type": "execute_result"
    }
   ],
   "source": [
    "subs.head()"
   ]
  },
  {
   "cell_type": "code",
   "execution_count": 60,
   "id": "89ca9562",
   "metadata": {},
   "outputs": [
    {
     "data": {
      "text/plain": [
       "0      48\n",
       "1      57\n",
       "2     500\n",
       "3    1000\n",
       "4      44\n",
       "Name: Subscribers gained, dtype: int64"
      ]
     },
     "execution_count": 60,
     "metadata": {},
     "output_type": "execute_result"
    }
   ],
   "source": [
    "subs[2:4] = [500,1000]\n",
    "subs.head()"
   ]
  },
  {
   "cell_type": "code",
   "execution_count": 61,
   "id": "6c8fb6ff",
   "metadata": {},
   "outputs": [
    {
     "data": {
      "text/plain": [
       "0     48\n",
       "1    100\n",
       "2    200\n",
       "3    300\n",
       "4    400\n",
       "Name: Subscribers gained, dtype: int64"
      ]
     },
     "execution_count": 61,
     "metadata": {},
     "output_type": "execute_result"
    }
   ],
   "source": [
    "subs[[1,2,3,4]] = [100,200,300,400]\n",
    "subs.head()"
   ]
  },
  {
   "cell_type": "markdown",
   "id": "44497d2e",
   "metadata": {},
   "source": [
    "**Using index labels**"
   ]
  },
  {
   "cell_type": "code",
   "execution_count": 62,
   "id": "9d09c8ca",
   "metadata": {},
   "outputs": [
    {
     "data": {
      "text/plain": [
       "movie\n",
       "Uri: The Surgical Strike                   Vicky Kaushal\n",
       "Battalion 609                                Vicky Ahuja\n",
       "The Accidental Prime Minister (film)         Anupam Kher\n",
       "Why Cheat India                            Emraan Hashmi\n",
       "Evening Shadows                         Mona Ambegaonkar\n",
       "Name: lead, dtype: object"
      ]
     },
     "execution_count": 62,
     "metadata": {},
     "output_type": "execute_result"
    }
   ],
   "source": [
    "movies.head()"
   ]
  },
  {
   "cell_type": "code",
   "execution_count": 63,
   "id": "ab98ec92",
   "metadata": {},
   "outputs": [
    {
     "data": {
      "text/plain": [
       "'Fake Coder'"
      ]
     },
     "execution_count": 63,
     "metadata": {},
     "output_type": "execute_result"
    }
   ],
   "source": [
    "movies['Evening Shadows'] = 'Fake Coder'\n",
    "movies['Evening Shadows']"
   ]
  },
  {
   "cell_type": "markdown",
   "id": "61d52c01",
   "metadata": {},
   "source": [
    "#### **Series with Python Functionalities**"
   ]
  },
  {
   "cell_type": "markdown",
   "id": "ffffead7",
   "metadata": {},
   "source": [
    "**len / type / dir / sorted / max / min**"
   ]
  },
  {
   "cell_type": "code",
   "execution_count": 64,
   "id": "3c98e056",
   "metadata": {},
   "outputs": [
    {
     "data": {
      "text/plain": [
       "215"
      ]
     },
     "execution_count": 64,
     "metadata": {},
     "output_type": "execute_result"
    }
   ],
   "source": [
    "len(ipl)"
   ]
  },
  {
   "cell_type": "code",
   "execution_count": 65,
   "id": "b0be81a7",
   "metadata": {},
   "outputs": [
    {
     "data": {
      "text/plain": [
       "pandas.core.series.Series"
      ]
     },
     "execution_count": 65,
     "metadata": {},
     "output_type": "execute_result"
    }
   ],
   "source": [
    "type(ipl)"
   ]
  },
  {
   "cell_type": "code",
   "execution_count": 66,
   "id": "295cb182",
   "metadata": {},
   "outputs": [
    {
     "data": {
      "text/plain": [
       "['T',\n",
       " '_AXIS_LEN',\n",
       " '_AXIS_ORDERS',\n",
       " '_AXIS_TO_AXIS_NUMBER',\n",
       " '_HANDLED_TYPES',\n",
       " '__abs__',\n",
       " '__add__',\n",
       " '__and__',\n",
       " '__annotations__',\n",
       " '__array__',\n",
       " '__array_priority__',\n",
       " '__array_ufunc__',\n",
       " '__bool__',\n",
       " '__class__',\n",
       " '__column_consortium_standard__',\n",
       " '__contains__',\n",
       " '__copy__',\n",
       " '__deepcopy__',\n",
       " '__delattr__',\n",
       " '__delitem__',\n",
       " '__dict__',\n",
       " '__dir__',\n",
       " '__divmod__',\n",
       " '__doc__',\n",
       " '__eq__',\n",
       " '__finalize__',\n",
       " '__float__',\n",
       " '__floordiv__',\n",
       " '__format__',\n",
       " '__ge__',\n",
       " '__getattr__',\n",
       " '__getattribute__',\n",
       " '__getitem__',\n",
       " '__getstate__',\n",
       " '__gt__',\n",
       " '__hash__',\n",
       " '__iadd__',\n",
       " '__iand__',\n",
       " '__ifloordiv__',\n",
       " '__imod__',\n",
       " '__imul__',\n",
       " '__init__',\n",
       " '__init_subclass__',\n",
       " '__int__',\n",
       " '__invert__',\n",
       " '__ior__',\n",
       " '__ipow__',\n",
       " '__isub__',\n",
       " '__iter__',\n",
       " '__itruediv__',\n",
       " '__ixor__',\n",
       " '__le__',\n",
       " '__len__',\n",
       " '__lt__',\n",
       " '__matmul__',\n",
       " '__mod__',\n",
       " '__module__',\n",
       " '__mul__',\n",
       " '__ne__',\n",
       " '__neg__',\n",
       " '__new__',\n",
       " '__nonzero__',\n",
       " '__or__',\n",
       " '__pandas_priority__',\n",
       " '__pos__',\n",
       " '__pow__',\n",
       " '__radd__',\n",
       " '__rand__',\n",
       " '__rdivmod__',\n",
       " '__reduce__',\n",
       " '__reduce_ex__',\n",
       " '__repr__',\n",
       " '__rfloordiv__',\n",
       " '__rmatmul__',\n",
       " '__rmod__',\n",
       " '__rmul__',\n",
       " '__ror__',\n",
       " '__round__',\n",
       " '__rpow__',\n",
       " '__rsub__',\n",
       " '__rtruediv__',\n",
       " '__rxor__',\n",
       " '__setattr__',\n",
       " '__setitem__',\n",
       " '__setstate__',\n",
       " '__sizeof__',\n",
       " '__str__',\n",
       " '__sub__',\n",
       " '__subclasshook__',\n",
       " '__truediv__',\n",
       " '__weakref__',\n",
       " '__xor__',\n",
       " '_accessors',\n",
       " '_accum_func',\n",
       " '_agg_examples_doc',\n",
       " '_agg_see_also_doc',\n",
       " '_align_for_op',\n",
       " '_align_frame',\n",
       " '_align_series',\n",
       " '_append',\n",
       " '_arith_method',\n",
       " '_as_manager',\n",
       " '_attrs',\n",
       " '_binop',\n",
       " '_cacher',\n",
       " '_can_hold_na',\n",
       " '_check_inplace_and_allows_duplicate_labels',\n",
       " '_check_is_chained_assignment_possible',\n",
       " '_check_label_or_level_ambiguity',\n",
       " '_check_setitem_copy',\n",
       " '_clear_item_cache',\n",
       " '_clip_with_one_bound',\n",
       " '_clip_with_scalar',\n",
       " '_cmp_method',\n",
       " '_consolidate',\n",
       " '_consolidate_inplace',\n",
       " '_construct_axes_dict',\n",
       " '_construct_result',\n",
       " '_constructor',\n",
       " '_constructor_expanddim',\n",
       " '_constructor_expanddim_from_mgr',\n",
       " '_constructor_from_mgr',\n",
       " '_data',\n",
       " '_deprecate_downcast',\n",
       " '_dir_additions',\n",
       " '_dir_deletions',\n",
       " '_drop_axis',\n",
       " '_drop_labels_or_levels',\n",
       " '_duplicated',\n",
       " '_find_valid_index',\n",
       " '_flags',\n",
       " '_flex_method',\n",
       " '_from_mgr',\n",
       " '_get_axis',\n",
       " '_get_axis_name',\n",
       " '_get_axis_number',\n",
       " '_get_axis_resolvers',\n",
       " '_get_block_manager_axis',\n",
       " '_get_bool_data',\n",
       " '_get_cacher',\n",
       " '_get_cleaned_column_resolvers',\n",
       " '_get_index_resolvers',\n",
       " '_get_label_or_level_values',\n",
       " '_get_numeric_data',\n",
       " '_get_rows_with_mask',\n",
       " '_get_value',\n",
       " '_get_values_tuple',\n",
       " '_get_with',\n",
       " '_getitem_slice',\n",
       " '_gotitem',\n",
       " '_hidden_attrs',\n",
       " '_indexed_same',\n",
       " '_info_axis',\n",
       " '_info_axis_name',\n",
       " '_info_axis_number',\n",
       " '_init_dict',\n",
       " '_init_mgr',\n",
       " '_inplace_method',\n",
       " '_internal_names',\n",
       " '_internal_names_set',\n",
       " '_is_cached',\n",
       " '_is_copy',\n",
       " '_is_label_or_level_reference',\n",
       " '_is_label_reference',\n",
       " '_is_level_reference',\n",
       " '_is_mixed_type',\n",
       " '_is_view',\n",
       " '_is_view_after_cow_rules',\n",
       " '_item_cache',\n",
       " '_ixs',\n",
       " '_logical_func',\n",
       " '_logical_method',\n",
       " '_map_values',\n",
       " '_maybe_update_cacher',\n",
       " '_memory_usage',\n",
       " '_metadata',\n",
       " '_mgr',\n",
       " '_min_count_stat_function',\n",
       " '_name',\n",
       " '_needs_reindex_multi',\n",
       " '_pad_or_backfill',\n",
       " '_protect_consolidate',\n",
       " '_reduce',\n",
       " '_references',\n",
       " '_reindex_axes',\n",
       " '_reindex_indexer',\n",
       " '_reindex_multi',\n",
       " '_reindex_with_indexers',\n",
       " '_rename',\n",
       " '_replace_single',\n",
       " '_repr_data_resource_',\n",
       " '_repr_latex_',\n",
       " '_reset_cache',\n",
       " '_reset_cacher',\n",
       " '_set_as_cached',\n",
       " '_set_axis',\n",
       " '_set_axis_name',\n",
       " '_set_axis_nocheck',\n",
       " '_set_is_copy',\n",
       " '_set_labels',\n",
       " '_set_name',\n",
       " '_set_value',\n",
       " '_set_values',\n",
       " '_set_with',\n",
       " '_set_with_engine',\n",
       " '_shift_with_freq',\n",
       " '_slice',\n",
       " '_stat_function',\n",
       " '_stat_function_ddof',\n",
       " '_take_with_is_copy',\n",
       " '_to_latex_via_styler',\n",
       " '_typ',\n",
       " '_update_inplace',\n",
       " '_validate_dtype',\n",
       " '_values',\n",
       " '_where',\n",
       " 'abs',\n",
       " 'add',\n",
       " 'add_prefix',\n",
       " 'add_suffix',\n",
       " 'agg',\n",
       " 'aggregate',\n",
       " 'align',\n",
       " 'all',\n",
       " 'any',\n",
       " 'apply',\n",
       " 'argmax',\n",
       " 'argmin',\n",
       " 'argsort',\n",
       " 'array',\n",
       " 'asfreq',\n",
       " 'asof',\n",
       " 'astype',\n",
       " 'at',\n",
       " 'at_time',\n",
       " 'attrs',\n",
       " 'autocorr',\n",
       " 'axes',\n",
       " 'backfill',\n",
       " 'between',\n",
       " 'between_time',\n",
       " 'bfill',\n",
       " 'bool',\n",
       " 'case_when',\n",
       " 'clip',\n",
       " 'combine',\n",
       " 'combine_first',\n",
       " 'compare',\n",
       " 'convert_dtypes',\n",
       " 'copy',\n",
       " 'corr',\n",
       " 'count',\n",
       " 'cov',\n",
       " 'cummax',\n",
       " 'cummin',\n",
       " 'cumprod',\n",
       " 'cumsum',\n",
       " 'describe',\n",
       " 'diff',\n",
       " 'div',\n",
       " 'divide',\n",
       " 'divmod',\n",
       " 'dot',\n",
       " 'drop',\n",
       " 'drop_duplicates',\n",
       " 'droplevel',\n",
       " 'dropna',\n",
       " 'dtype',\n",
       " 'dtypes',\n",
       " 'duplicated',\n",
       " 'empty',\n",
       " 'eq',\n",
       " 'equals',\n",
       " 'ewm',\n",
       " 'expanding',\n",
       " 'explode',\n",
       " 'factorize',\n",
       " 'ffill',\n",
       " 'fillna',\n",
       " 'filter',\n",
       " 'first',\n",
       " 'first_valid_index',\n",
       " 'flags',\n",
       " 'floordiv',\n",
       " 'ge',\n",
       " 'get',\n",
       " 'groupby',\n",
       " 'gt',\n",
       " 'hasnans',\n",
       " 'head',\n",
       " 'hist',\n",
       " 'iat',\n",
       " 'idxmax',\n",
       " 'idxmin',\n",
       " 'iloc',\n",
       " 'index',\n",
       " 'infer_objects',\n",
       " 'info',\n",
       " 'interpolate',\n",
       " 'is_monotonic_decreasing',\n",
       " 'is_monotonic_increasing',\n",
       " 'is_unique',\n",
       " 'isin',\n",
       " 'isna',\n",
       " 'isnull',\n",
       " 'item',\n",
       " 'items',\n",
       " 'keys',\n",
       " 'kurt',\n",
       " 'kurtosis',\n",
       " 'last',\n",
       " 'last_valid_index',\n",
       " 'le',\n",
       " 'list',\n",
       " 'loc',\n",
       " 'lt',\n",
       " 'map',\n",
       " 'mask',\n",
       " 'max',\n",
       " 'mean',\n",
       " 'median',\n",
       " 'memory_usage',\n",
       " 'min',\n",
       " 'mod',\n",
       " 'mode',\n",
       " 'mul',\n",
       " 'multiply',\n",
       " 'name',\n",
       " 'nbytes',\n",
       " 'ndim',\n",
       " 'ne',\n",
       " 'nlargest',\n",
       " 'notna',\n",
       " 'notnull',\n",
       " 'nsmallest',\n",
       " 'nunique',\n",
       " 'pad',\n",
       " 'pct_change',\n",
       " 'pipe',\n",
       " 'plot',\n",
       " 'pop',\n",
       " 'pow',\n",
       " 'prod',\n",
       " 'product',\n",
       " 'quantile',\n",
       " 'radd',\n",
       " 'rank',\n",
       " 'ravel',\n",
       " 'rdiv',\n",
       " 'rdivmod',\n",
       " 'reindex',\n",
       " 'reindex_like',\n",
       " 'rename',\n",
       " 'rename_axis',\n",
       " 'reorder_levels',\n",
       " 'repeat',\n",
       " 'replace',\n",
       " 'resample',\n",
       " 'reset_index',\n",
       " 'rfloordiv',\n",
       " 'rmod',\n",
       " 'rmul',\n",
       " 'rolling',\n",
       " 'round',\n",
       " 'rpow',\n",
       " 'rsub',\n",
       " 'rtruediv',\n",
       " 'sample',\n",
       " 'searchsorted',\n",
       " 'sem',\n",
       " 'set_axis',\n",
       " 'set_flags',\n",
       " 'shape',\n",
       " 'shift',\n",
       " 'size',\n",
       " 'skew',\n",
       " 'sort_index',\n",
       " 'sort_values',\n",
       " 'squeeze',\n",
       " 'std',\n",
       " 'struct',\n",
       " 'sub',\n",
       " 'subtract',\n",
       " 'sum',\n",
       " 'swapaxes',\n",
       " 'swaplevel',\n",
       " 'tail',\n",
       " 'take',\n",
       " 'to_clipboard',\n",
       " 'to_csv',\n",
       " 'to_dict',\n",
       " 'to_excel',\n",
       " 'to_frame',\n",
       " 'to_hdf',\n",
       " 'to_json',\n",
       " 'to_latex',\n",
       " 'to_list',\n",
       " 'to_markdown',\n",
       " 'to_numpy',\n",
       " 'to_period',\n",
       " 'to_pickle',\n",
       " 'to_sql',\n",
       " 'to_string',\n",
       " 'to_timestamp',\n",
       " 'to_xarray',\n",
       " 'transform',\n",
       " 'transpose',\n",
       " 'truediv',\n",
       " 'truncate',\n",
       " 'tz_convert',\n",
       " 'tz_localize',\n",
       " 'unique',\n",
       " 'unstack',\n",
       " 'update',\n",
       " 'value_counts',\n",
       " 'values',\n",
       " 'var',\n",
       " 'view',\n",
       " 'where',\n",
       " 'xs']"
      ]
     },
     "execution_count": 66,
     "metadata": {},
     "output_type": "execute_result"
    }
   ],
   "source": [
    "dir(ipl)  # Its shows Attributes and Methods"
   ]
  },
  {
   "cell_type": "code",
   "execution_count": 67,
   "id": "26f33cc9",
   "metadata": {},
   "outputs": [
    {
     "data": {
      "text/plain": [
       "[33, 33, 35, 37, 39, 40, 40, 40, 42, 42, 44]"
      ]
     },
     "execution_count": 67,
     "metadata": {},
     "output_type": "execute_result"
    }
   ],
   "source": [
    "sorted(subs)[0:11]"
   ]
  },
  {
   "cell_type": "code",
   "execution_count": 68,
   "id": "948a65fb",
   "metadata": {},
   "outputs": [
    {
     "data": {
      "text/plain": [
       "[400, 396, 312, 306, 301, 300, 295, 290, 276, 276, 269]"
      ]
     },
     "execution_count": 68,
     "metadata": {},
     "output_type": "execute_result"
    }
   ],
   "source": [
    "sorted(subs,reverse=True)[0:11]"
   ]
  },
  {
   "cell_type": "code",
   "execution_count": 69,
   "id": "404e863a",
   "metadata": {},
   "outputs": [
    {
     "data": {
      "text/plain": [
       "33"
      ]
     },
     "execution_count": 69,
     "metadata": {},
     "output_type": "execute_result"
    }
   ],
   "source": [
    "min(subs)"
   ]
  },
  {
   "cell_type": "code",
   "execution_count": 70,
   "id": "3c013c40",
   "metadata": {},
   "outputs": [
    {
     "data": {
      "text/plain": [
       "400"
      ]
     },
     "execution_count": 70,
     "metadata": {},
     "output_type": "execute_result"
    }
   ],
   "source": [
    "max(subs)"
   ]
  },
  {
   "cell_type": "markdown",
   "id": "6a5f1f53",
   "metadata": {},
   "source": [
    "**Type Conversion**"
   ]
  },
  {
   "cell_type": "code",
   "execution_count": 71,
   "id": "8629f99f",
   "metadata": {},
   "outputs": [
    {
     "data": {
      "text/plain": [
       "Maths             67\n",
       "English           95\n",
       "Hindi             98\n",
       "Marathi           88\n",
       "Science           95\n",
       "Social Science    85\n",
       "Name: Kisan ke Marks, dtype: int64"
      ]
     },
     "execution_count": 71,
     "metadata": {},
     "output_type": "execute_result"
    }
   ],
   "source": [
    "marks"
   ]
  },
  {
   "cell_type": "code",
   "execution_count": 72,
   "id": "ae43a957",
   "metadata": {},
   "outputs": [
    {
     "data": {
      "text/plain": [
       "[67, 95, 98, 88, 95, 85]"
      ]
     },
     "execution_count": 72,
     "metadata": {},
     "output_type": "execute_result"
    }
   ],
   "source": [
    "list(marks)"
   ]
  },
  {
   "cell_type": "code",
   "execution_count": 73,
   "id": "defc979b",
   "metadata": {},
   "outputs": [
    {
     "name": "stdout",
     "output_type": "stream",
     "text": [
      "{'Maths': np.int64(67), 'English': np.int64(95), 'Hindi': np.int64(98), 'Marathi': np.int64(88), 'Science': np.int64(95), 'Social Science': np.int64(85)}\n"
     ]
    }
   ],
   "source": [
    "print(dict(marks))"
   ]
  },
  {
   "cell_type": "markdown",
   "id": "452de478",
   "metadata": {},
   "source": [
    "**Membership Operators**"
   ]
  },
  {
   "cell_type": "code",
   "execution_count": 74,
   "id": "e9769d28",
   "metadata": {},
   "outputs": [
    {
     "data": {
      "text/plain": [
       "movie\n",
       "Uri: The Surgical Strike                   Vicky Kaushal\n",
       "Battalion 609                                Vicky Ahuja\n",
       "The Accidental Prime Minister (film)         Anupam Kher\n",
       "Why Cheat India                            Emraan Hashmi\n",
       "Evening Shadows                               Fake Coder\n",
       "                                              ...       \n",
       "Hum Tumhare Hain Sanam                    Shah Rukh Khan\n",
       "Aankhen (2002 film)                     Amitabh Bachchan\n",
       "Saathiya (film)                             Vivek Oberoi\n",
       "Company (film)                                Ajay Devgn\n",
       "Awara Paagal Deewana                        Akshay Kumar\n",
       "Name: lead, Length: 1500, dtype: object"
      ]
     },
     "execution_count": 74,
     "metadata": {},
     "output_type": "execute_result"
    }
   ],
   "source": [
    "movies"
   ]
  },
  {
   "cell_type": "code",
   "execution_count": 75,
   "id": "10efc477",
   "metadata": {},
   "outputs": [
    {
     "data": {
      "text/plain": [
       "False"
      ]
     },
     "execution_count": 75,
     "metadata": {},
     "output_type": "execute_result"
    }
   ],
   "source": [
    "'Awara Paagal Deewana' in moives  # Works on index values not on values"
   ]
  },
  {
   "cell_type": "code",
   "execution_count": 76,
   "id": "432b64e5",
   "metadata": {},
   "outputs": [
    {
     "data": {
      "text/plain": [
       "False"
      ]
     },
     "execution_count": 76,
     "metadata": {},
     "output_type": "execute_result"
    }
   ],
   "source": [
    "'Fake Coder' in moives.values  # to check in values"
   ]
  },
  {
   "cell_type": "markdown",
   "id": "182bb458",
   "metadata": {},
   "source": [
    "**Looping**"
   ]
  },
  {
   "cell_type": "code",
   "execution_count": 77,
   "id": "7b1b23d4",
   "metadata": {},
   "outputs": [
    {
     "name": "stdout",
     "output_type": "stream",
     "text": [
      "movie\n",
      "lead\n"
     ]
    }
   ],
   "source": [
    "for i in moives:\n",
    "    print(i)"
   ]
  },
  {
   "cell_type": "markdown",
   "id": "2be8031a",
   "metadata": {},
   "source": [
    "**Arithmetic Operators**"
   ]
  },
  {
   "cell_type": "code",
   "execution_count": 78,
   "id": "0d49997d",
   "metadata": {},
   "outputs": [
    {
     "data": {
      "text/plain": [
       "Maths             33\n",
       "English            5\n",
       "Hindi              2\n",
       "Marathi           12\n",
       "Science            5\n",
       "Social Science    15\n",
       "Name: Kisan ke Marks, dtype: int64"
      ]
     },
     "execution_count": 78,
     "metadata": {},
     "output_type": "execute_result"
    }
   ],
   "source": [
    "100 - marks   # All operators are applicable"
   ]
  },
  {
   "cell_type": "markdown",
   "id": "456e2d93",
   "metadata": {},
   "source": [
    "**Relational Operators**"
   ]
  },
  {
   "cell_type": "code",
   "execution_count": 79,
   "id": "b9b4d881",
   "metadata": {},
   "outputs": [
    {
     "data": {
      "text/plain": [
       "match_no\n",
       "1      False\n",
       "2      False\n",
       "3      False\n",
       "4      False\n",
       "5      False\n",
       "       ...  \n",
       "211    False\n",
       "212    False\n",
       "213     True\n",
       "214    False\n",
       "215    False\n",
       "Name: runs, Length: 215, dtype: bool"
      ]
     },
     "execution_count": 79,
     "metadata": {},
     "output_type": "execute_result"
    }
   ],
   "source": [
    "ipl > 50"
   ]
  },
  {
   "cell_type": "markdown",
   "id": "5e244032",
   "metadata": {},
   "source": [
    "#### **Boolean Indexing**"
   ]
  },
  {
   "cell_type": "code",
   "execution_count": 80,
   "id": "ab8a714a",
   "metadata": {},
   "outputs": [
    {
     "data": {
      "text/plain": [
       "50"
      ]
     },
     "execution_count": 80,
     "metadata": {},
     "output_type": "execute_result"
    }
   ],
   "source": [
    "# Find number of 50's and 100's scored by kohli\n",
    "\n",
    "ipl[ipl >= 50].size"
   ]
  },
  {
   "cell_type": "code",
   "execution_count": 81,
   "id": "181c4b10",
   "metadata": {},
   "outputs": [
    {
     "data": {
      "text/plain": [
       "9"
      ]
     },
     "execution_count": 81,
     "metadata": {},
     "output_type": "execute_result"
    }
   ],
   "source": [
    "# Find the number of ducks\n",
    "\n",
    "ipl[ipl == 0].size"
   ]
  },
  {
   "cell_type": "code",
   "execution_count": 85,
   "id": "663d782d",
   "metadata": {},
   "outputs": [
    {
     "data": {
      "text/plain": [
       "61"
      ]
     },
     "execution_count": 85,
     "metadata": {},
     "output_type": "execute_result"
    }
   ],
   "source": [
    "# Count the number of days , when i had more than 200 subs a day\n",
    "\n",
    "subs[subs > 200].size"
   ]
  },
  {
   "cell_type": "code",
   "execution_count": 107,
   "id": "51f543ef",
   "metadata": {},
   "outputs": [
    {
     "data": {
      "text/plain": [
       "lead\n",
       "Akshay Kumar        48\n",
       "Amitabh Bachchan    45\n",
       "Ajay Devgn          38\n",
       "Salman Khan         31\n",
       "Sanjay Dutt         26\n",
       "Shah Rukh Khan      22\n",
       "Emraan Hashmi       21\n",
       "Name: count, dtype: int64"
      ]
     },
     "execution_count": 107,
     "metadata": {},
     "output_type": "execute_result"
    }
   ],
   "source": [
    "# Find the actor who have done more than 20 movies\n",
    "num_movies = movies.value_counts()\n",
    "\n",
    "num_movies[num_movies > 20]"
   ]
  },
  {
   "cell_type": "markdown",
   "id": "53631d3a",
   "metadata": {},
   "source": [
    "#### **Plotting a Graph on Series**"
   ]
  },
  {
   "cell_type": "code",
   "execution_count": 109,
   "id": "1a679147",
   "metadata": {},
   "outputs": [
    {
     "data": {
      "text/plain": [
       "<Axes: >"
      ]
     },
     "execution_count": 109,
     "metadata": {},
     "output_type": "execute_result"
    },
    {
     "data": {
      "image/png": "[encoded data removed]",
      "text/plain": [
       "<Figure size 640x480 with 1 Axes>"
      ]
     },
     "metadata": {},
     "output_type": "display_data"
    }
   ],
   "source": [
    "subs.plot()"
   ]
  },
  {
   "cell_type": "code",
   "execution_count": 115,
   "id": "a30061e6",
   "metadata": {},
   "outputs": [
    {
     "data": {
      "text/plain": [
       "<Axes: xlabel='lead'>"
      ]
     },
     "execution_count": 115,
     "metadata": {},
     "output_type": "execute_result"
    },
    {
     "data": {
      "image/png": "[encoded data removed]",
      "text/plain": [
       "<Figure size 640x480 with 1 Axes>"
      ]
     },
     "metadata": {},
     "output_type": "display_data"
    }
   ],
   "source": [
    "movies.value_counts().head(20).plot(kind='bar')"
   ]
  }
 ],
 "metadata": {
  "kernelspec": {
   "display_name": "MlWorld",
   "language": "python",
   "name": "python3"
  },
  "language_info": {
   "codemirror_mode": {
    "name": "ipython",
    "version": 3
   },
   "file_extension": ".py",
   "mimetype": "text/x-python",
   "name": "python",
   "nbconvert_exporter": "python",
   "pygments_lexer": "ipython3",
   "version": "3.10.18"
  }
 },
 "nbformat": 4,
 "nbformat_minor": 5
}
